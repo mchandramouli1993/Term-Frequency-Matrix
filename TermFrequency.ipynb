{
 "cells": [
  {
   "cell_type": "code",
   "execution_count": 6,
   "metadata": {},
   "outputs": [],
   "source": [
    "import re, csv\n",
    "\n",
    "fileobj = open('abs1.txt')\n",
    "lines = fileobj.read()\n",
    "csvfile = \"term_matrix.csv\"\n",
    "header = ['Index', 'Investors', \"Customers\", \"Suppliers\", \"Employees\", \"Community\"]\n",
    "names = ['Blake Cope','Ivan Filippov','Chandra Mouli Marrivada','Namrata Tathe','Amal Samirbhai Vaishnav','Nate Wilson']\n",
    "header_count = 1\n",
    "\n",
    "f = open(csvfile, 'w+').close()\n",
    "\n",
    "subdoc = re.split(\"\\n\", lines)\n",
    "\n",
    "di = {}\n",
    "\n",
    "for c, file in enumerate(subdoc):\n",
    "    investors = len(re.findall('\\sinvestor*|\\sshareholder*|\\sowner*|\\saccounting-based performance*|\\sasset turnover*|\\sbook value*|\\scash flow*|\\searnings*|\\sEBIT*|\\seconomic performance*|\\sefficiency*|\\sfinancial*|\\sfinancial position*|\\smarket share*|\\sprofit*|\\sproductivity*|\\smargin*|\\sprofitability*|\\sreturn on*|\\srevenue*|\\sROA*|\\sROC*|\\sROE*|\\sROI*|\\sROIC*|\\sROS*|\\ssales*|\\svalue added*|\\sstock market-based performance*|\\sbook to market ratio*|\\sequity*|\\sdividends*|\\sEPS*|\\smarket position*|\\smarket returns*|\\smarket value*|\\sshare price*|\\sstock market*|\\sstock price*|\\sstock return*|\\sTobin\\'s*',file,re.I))\n",
    "    customers = len(re.findall('\\scustomer*|\\sconsumer*|\\sbrand*|\\sreputation*|\\smarketing*|\\sadvertis*|\\sproduct quality*|\\s“quality of product*|\\sservice quality*|\\squality of service*|\\snew product*|\\sinnov*|\\sresearch and development*|\\sR&D*|\\scustomization*|\\sservice*',file,re.I))\n",
    "    suppliers = len(re.findall(\"\\ssupplier*|\\ssupply chain*|\\scontractor*\",file,re.I))\n",
    "    employees = len(re.findall('\\semployee*|\\sworker*|\\sabsen*|\\sjob*|\\sstaff*|\\sturnover*|\\sdistributive justice*|\\spay*|\\scareer*|\\shuman resources*|\\sHR*|\\sdownsiz*|\\scompensation*|\\swell-being*|\\streatment*|\\sgrievance*|\\straining*|\\slabor*|\\searnings*|\\slayoffs*|\\spension*|\\spromotion*|\\sreduction in force*|\\swage*|\\ssocial support*|\\ssupervis*|\\sunionization*|\\swork*|\\sworkforce*|\\shealth*|\\sburnout*|\\sexhaustion*|\\sfatigue*|\\stiring*|\\ssickness*|\\sstress*|\\sexhaustion*',file,re.I))\n",
    "    community = len(re.findall(\"\\scommunity* |\\s society* |\\s social* |\\s environment* |\\s compliance* |\\s CSP* |\\s CSR* |\\s sustainab* |\\s responsib* |\\s ethic* |\\s global reporting initiative* |\\s human rights* |\\s charitable* |\\s philanth* |\\s pollution* |\\s emissions* |\\s recycle* |\\s toxic* |\\s waste*\",file,re.I))\n",
    "    \n",
    "    di['investors'] = investors\n",
    "    di['customers'] = customers\n",
    "    di['suppliers'] = suppliers\n",
    "    di['employees'] = employees\n",
    "    di['community'] = community\n",
    "    \n",
    "    mylist = [c, di['investors'],di['customers'],di['suppliers'],di['employees'],di['community']]\n",
    "    \n",
    "    \n",
    "    with open(csvfile, 'a+') as myfile:\n",
    "            wr = csv.writer(myfile)\n",
    "            if header_count == 1:\n",
    "                wr.writerow(names)\n",
    "                wr.writerow(header)\n",
    "                header_count = 0\n",
    "            wr.writerow(mylist)\n",
    "    "
   ]
  },
  {
   "cell_type": "code",
   "execution_count": null,
   "metadata": {},
   "outputs": [],
   "source": []
  }
 ],
 "metadata": {
  "kernelspec": {
   "display_name": "Python 3",
   "language": "python",
   "name": "python3"
  },
  "language_info": {
   "codemirror_mode": {
    "name": "ipython",
    "version": 3
   },
   "file_extension": ".py",
   "mimetype": "text/x-python",
   "name": "python",
   "nbconvert_exporter": "python",
   "pygments_lexer": "ipython3",
   "version": "3.7.0"
  }
 },
 "nbformat": 4,
 "nbformat_minor": 2
}
